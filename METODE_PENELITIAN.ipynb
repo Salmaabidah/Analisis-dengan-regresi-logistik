{
  "nbformat": 4,
  "nbformat_minor": 0,
  "metadata": {
    "colab": {
      "provenance": []
    },
    "kernelspec": {
      "name": "python3",
      "display_name": "Python 3"
    },
    "language_info": {
      "name": "python"
    }
  },
  "cells": [
    {
      "cell_type": "code",
      "execution_count": null,
      "metadata": {
        "id": "eGQPatIn1f9c"
      },
      "outputs": [],
      "source": [
        "import pandas as pd, matplotlib.pyplot as plt, seaborn as sns, numpy as np\n",
        "from collections import Counter\n",
        "from sklearn.model_selection import train_test_split\n",
        "from sklearn.metrics import classification_report\n",
        "from sklearn.metrics import accuracy_score\n",
        "from sklearn.linear_model import LogisticRegression\n",
        "from sklearn.metrics import precision_score, recall_score"
      ]
    },
    {
      "cell_type": "code",
      "source": [
        "!git clone https://github.com/Salmaabidah/METLIT.git\n",
        "data = pd.read_excel('/content/METLIT/Hasil_Survey_Mahasiswa_FST_UIN_JAKARTA.xlsx')"
      ],
      "metadata": {
        "colab": {
          "base_uri": "https://localhost:8080/"
        },
        "id": "Ap9kP5ImiuLW",
        "outputId": "5213274b-13b5-42ff-d127-30f2a0d8496e"
      },
      "execution_count": null,
      "outputs": [
        {
          "output_type": "stream",
          "name": "stdout",
          "text": [
            "fatal: destination path 'METLIT' already exists and is not an empty directory.\n"
          ]
        }
      ]
    },
    {
      "cell_type": "code",
      "source": [
        "data"
      ],
      "metadata": {
        "colab": {
          "base_uri": "https://localhost:8080/",
          "height": 1000
        },
        "id": "mmeVhwGU1ngs",
        "outputId": "a5ec5765-2710-4c10-c590-e2f322ed832f"
      },
      "execution_count": null,
      "outputs": [
        {
          "output_type": "execute_result",
          "data": {
            "text/plain": [
              "                  Timestamp             Jurusan  \\\n",
              "0   2022-04-09 17:48:52.141          Matematika   \n",
              "1   2022-04-09 17:53:37.241    Sistem Informasi   \n",
              "2   2022-04-09 17:53:38.000          Agribisnis   \n",
              "3   2022-04-09 17:53:39.000          Matematika   \n",
              "4   2022-04-09 17:53:40.000               Kimia   \n",
              "..                      ...                 ...   \n",
              "99  2022-04-16 13:58:48.000  Teknik Informatika   \n",
              "100 2022-04-16 14:40:22.000  Teknik Informatika   \n",
              "101 2022-04-26 22:07:18.672          Matematika   \n",
              "102 2022-04-26 22:09:52.597              Fisika   \n",
              "103 2022-04-26 22:44:27.486               Kimia   \n",
              "\n",
              "    Jaringan internet di rumah memiliki kualitas yang baik  \\\n",
              "0                                               Setuju       \n",
              "1                                        Sangat Setuju       \n",
              "2                                               Setuju       \n",
              "3                                               Setuju       \n",
              "4                                        Kurang Setuju       \n",
              "..                                                 ...       \n",
              "99                                              Setuju       \n",
              "100                                      Kurang Setuju       \n",
              "101                                      Sangat Setuju       \n",
              "102                                             Setuju       \n",
              "103                                             Setuju       \n",
              "\n",
              "    Kekuatan jaringan mempengaruhi proses belajar mengajar  \\\n",
              "0                                        Sangat Setuju       \n",
              "1                                        Sangat Setuju       \n",
              "2                                               Setuju       \n",
              "3                                               Setuju       \n",
              "4                                        Sangat Setuju       \n",
              "..                                                 ...       \n",
              "99                                              Setuju       \n",
              "100                                      Sangat Setuju       \n",
              "101                                      Sangat Setuju       \n",
              "102                                      Kurang Setuju       \n",
              "103                                             Setuju       \n",
              "\n",
              "    Anda puas dengan kualitas internet di rumah anda  \\\n",
              "0                                      Kurang Setuju   \n",
              "1                                             Setuju   \n",
              "2                                             Setuju   \n",
              "3                                             Setuju   \n",
              "4                                      Kurang Setuju   \n",
              "..                                               ...   \n",
              "99                                            Setuju   \n",
              "100                                    Kurang Setuju   \n",
              "101                                    Sangat Setuju   \n",
              "102                                    Kurang Setuju   \n",
              "103                                           Setuju   \n",
              "\n",
              "    Fokus belajar anda terganggu jika kualitas internet anda buruk  \\\n",
              "0                                        Sangat Setuju               \n",
              "1                                               Setuju               \n",
              "2                                        Sangat Setuju               \n",
              "3                                        Sangat Setuju               \n",
              "4                                        Sangat Setuju               \n",
              "..                                                 ...               \n",
              "99                                              Setuju               \n",
              "100                                      Sangat Setuju               \n",
              "101                                      Sangat Setuju               \n",
              "102                                             Setuju               \n",
              "103                                             Setuju               \n",
              "\n",
              "    Anda sulit memahami pelajaran karena kualitas internet yang buruk  \\\n",
              "0                                        Kurang Setuju                  \n",
              "1                                               Setuju                  \n",
              "2                                        kurang Setuju                  \n",
              "3                                               Setuju                  \n",
              "4                                               Setuju                  \n",
              "..                                                 ...                  \n",
              "99                                       Kurang Setuju                  \n",
              "100                                      Sangat Setuju                  \n",
              "101                                             Setuju                  \n",
              "102                                      Kurang Setuju                  \n",
              "103                                             Setuju                  \n",
              "\n",
              "    Anda lebih cepat memahami pelajaran jika kualitas internet baik/bagus  \\\n",
              "0                                               Setuju                      \n",
              "1                                        Sangat Setuju                      \n",
              "2                                               setuju                      \n",
              "3                                               Setuju                      \n",
              "4                                        Sangat Setuju                      \n",
              "..                                                 ...                      \n",
              "99                                              Setuju                      \n",
              "100                                      Sangat Setuju                      \n",
              "101                                             Setuju                      \n",
              "102                                      Sangat Setuju                      \n",
              "103                                             Setuju                      \n",
              "\n",
              "    PJJ (Perkuliahan Jarak Jauh) membuat nilai Anda menurun  \\\n",
              "0                                                Tidak        \n",
              "1                                                Tidak        \n",
              "2                                                Tidak        \n",
              "3                                                Tidak        \n",
              "4                                                Tidak        \n",
              "..                                                 ...        \n",
              "99                                               Tidak        \n",
              "100                                              Tidak        \n",
              "101                                              Tidak        \n",
              "102                                              Tidak        \n",
              "103                                              Tidak        \n",
              "\n",
              "    Menurut anda, apa saja yang menjadi faktor IP menurun?  \\\n",
              "0                            Waktu Belajar, Lingkungan       \n",
              "1                                             Jaringan       \n",
              "2                  Jaringan, Waktu Belajar, Lingkungan       \n",
              "3                  Jaringan, Waktu Belajar, Lingkungan       \n",
              "4      Jaringan, Perangkat,  Waktu Belajar, Lingkungan       \n",
              "..                                                 ...       \n",
              "99                           Waktu Belajar, Lingkungan       \n",
              "100     Jaringan, Perangkat, Waktu Belajar, Lingkungan       \n",
              "101                Jaringan, Waktu Belajar, Lingkungan       \n",
              "102                                         Lingkungan       \n",
              "103                 Jaringan, Perangkat, Waktu Belajar       \n",
              "\n",
              "    Jaringan apa yang digunakan dirumah anda?  \\\n",
              "0                                        Wifi   \n",
              "1                                        Wifi   \n",
              "2                            Jaringan Seluler   \n",
              "3                                        Wifi   \n",
              "4                                        Wifi   \n",
              "..                                        ...   \n",
              "99                                       Wifi   \n",
              "100                                      Wifi   \n",
              "101                          Jaringan Seluler   \n",
              "102                          Jaringan Seluler   \n",
              "103                          Jaringan Seluler   \n",
              "\n",
              "                  Alasan memilih Wifi/Jaringan Seluler  \\\n",
              "0                            Karena biaya lebih murah    \n",
              "1                                  Lebih mudah diakses   \n",
              "2    karena bisa mendapat subsidi kuota dari kampus...   \n",
              "3                              lebih murah dan efisien   \n",
              "4                                Karena bisa unlimited   \n",
              "..                                                 ...   \n",
              "99                                          Wifi murah   \n",
              "100                                  Wifi, lebih murah   \n",
              "101                                        lebih murah   \n",
              "102                               Karna tdk punya wifi   \n",
              "103    karena mendapatkan subsidi internet dari kampus   \n",
              "\n",
              "    Menurut Anda, seberapa besar pengaruh kualitas internet terhadap kegiatan belajar Anda  \n",
              "0                                           75% - 100%                                      \n",
              "1                                           75% - 100%                                      \n",
              "2                                           75% - 100%                                      \n",
              "3                                           75% - 100%                                      \n",
              "4                                           75% - 100%                                      \n",
              "..                                                 ...                                      \n",
              "99                                           50% - 75%                                      \n",
              "100                                         75% - 100%                                      \n",
              "101                                         75% - 100%                                      \n",
              "102                                          50% - 75%                                      \n",
              "103                                         75% - 100%                                      \n",
              "\n",
              "[104 rows x 13 columns]"
            ],
            "text/html": [
              "\n",
              "  <div id=\"df-ceaa65b6-94a5-487e-8e9f-16f079e0db07\">\n",
              "    <div class=\"colab-df-container\">\n",
              "      <div>\n",
              "<style scoped>\n",
              "    .dataframe tbody tr th:only-of-type {\n",
              "        vertical-align: middle;\n",
              "    }\n",
              "\n",
              "    .dataframe tbody tr th {\n",
              "        vertical-align: top;\n",
              "    }\n",
              "\n",
              "    .dataframe thead th {\n",
              "        text-align: right;\n",
              "    }\n",
              "</style>\n",
              "<table border=\"1\" class=\"dataframe\">\n",
              "  <thead>\n",
              "    <tr style=\"text-align: right;\">\n",
              "      <th></th>\n",
              "      <th>Timestamp</th>\n",
              "      <th>Jurusan</th>\n",
              "      <th>Jaringan internet di rumah memiliki kualitas yang baik</th>\n",
              "      <th>Kekuatan jaringan mempengaruhi proses belajar mengajar</th>\n",
              "      <th>Anda puas dengan kualitas internet di rumah anda</th>\n",
              "      <th>Fokus belajar anda terganggu jika kualitas internet anda buruk</th>\n",
              "      <th>Anda sulit memahami pelajaran karena kualitas internet yang buruk</th>\n",
              "      <th>Anda lebih cepat memahami pelajaran jika kualitas internet baik/bagus</th>\n",
              "      <th>PJJ (Perkuliahan Jarak Jauh) membuat nilai Anda menurun</th>\n",
              "      <th>Menurut anda, apa saja yang menjadi faktor IP menurun?</th>\n",
              "      <th>Jaringan apa yang digunakan dirumah anda?</th>\n",
              "      <th>Alasan memilih Wifi/Jaringan Seluler</th>\n",
              "      <th>Menurut Anda, seberapa besar pengaruh kualitas internet terhadap kegiatan belajar Anda</th>\n",
              "    </tr>\n",
              "  </thead>\n",
              "  <tbody>\n",
              "    <tr>\n",
              "      <th>0</th>\n",
              "      <td>2022-04-09 17:48:52.141</td>\n",
              "      <td>Matematika</td>\n",
              "      <td>Setuju</td>\n",
              "      <td>Sangat Setuju</td>\n",
              "      <td>Kurang Setuju</td>\n",
              "      <td>Sangat Setuju</td>\n",
              "      <td>Kurang Setuju</td>\n",
              "      <td>Setuju</td>\n",
              "      <td>Tidak</td>\n",
              "      <td>Waktu Belajar, Lingkungan</td>\n",
              "      <td>Wifi</td>\n",
              "      <td>Karena biaya lebih murah</td>\n",
              "      <td>75% - 100%</td>\n",
              "    </tr>\n",
              "    <tr>\n",
              "      <th>1</th>\n",
              "      <td>2022-04-09 17:53:37.241</td>\n",
              "      <td>Sistem Informasi</td>\n",
              "      <td>Sangat Setuju</td>\n",
              "      <td>Sangat Setuju</td>\n",
              "      <td>Setuju</td>\n",
              "      <td>Setuju</td>\n",
              "      <td>Setuju</td>\n",
              "      <td>Sangat Setuju</td>\n",
              "      <td>Tidak</td>\n",
              "      <td>Jaringan</td>\n",
              "      <td>Wifi</td>\n",
              "      <td>Lebih mudah diakses</td>\n",
              "      <td>75% - 100%</td>\n",
              "    </tr>\n",
              "    <tr>\n",
              "      <th>2</th>\n",
              "      <td>2022-04-09 17:53:38.000</td>\n",
              "      <td>Agribisnis</td>\n",
              "      <td>Setuju</td>\n",
              "      <td>Setuju</td>\n",
              "      <td>Setuju</td>\n",
              "      <td>Sangat Setuju</td>\n",
              "      <td>kurang Setuju</td>\n",
              "      <td>setuju</td>\n",
              "      <td>Tidak</td>\n",
              "      <td>Jaringan, Waktu Belajar, Lingkungan</td>\n",
              "      <td>Jaringan Seluler</td>\n",
              "      <td>karena bisa mendapat subsidi kuota dari kampus...</td>\n",
              "      <td>75% - 100%</td>\n",
              "    </tr>\n",
              "    <tr>\n",
              "      <th>3</th>\n",
              "      <td>2022-04-09 17:53:39.000</td>\n",
              "      <td>Matematika</td>\n",
              "      <td>Setuju</td>\n",
              "      <td>Setuju</td>\n",
              "      <td>Setuju</td>\n",
              "      <td>Sangat Setuju</td>\n",
              "      <td>Setuju</td>\n",
              "      <td>Setuju</td>\n",
              "      <td>Tidak</td>\n",
              "      <td>Jaringan, Waktu Belajar, Lingkungan</td>\n",
              "      <td>Wifi</td>\n",
              "      <td>lebih murah dan efisien</td>\n",
              "      <td>75% - 100%</td>\n",
              "    </tr>\n",
              "    <tr>\n",
              "      <th>4</th>\n",
              "      <td>2022-04-09 17:53:40.000</td>\n",
              "      <td>Kimia</td>\n",
              "      <td>Kurang Setuju</td>\n",
              "      <td>Sangat Setuju</td>\n",
              "      <td>Kurang Setuju</td>\n",
              "      <td>Sangat Setuju</td>\n",
              "      <td>Setuju</td>\n",
              "      <td>Sangat Setuju</td>\n",
              "      <td>Tidak</td>\n",
              "      <td>Jaringan, Perangkat,  Waktu Belajar, Lingkungan</td>\n",
              "      <td>Wifi</td>\n",
              "      <td>Karena bisa unlimited</td>\n",
              "      <td>75% - 100%</td>\n",
              "    </tr>\n",
              "    <tr>\n",
              "      <th>...</th>\n",
              "      <td>...</td>\n",
              "      <td>...</td>\n",
              "      <td>...</td>\n",
              "      <td>...</td>\n",
              "      <td>...</td>\n",
              "      <td>...</td>\n",
              "      <td>...</td>\n",
              "      <td>...</td>\n",
              "      <td>...</td>\n",
              "      <td>...</td>\n",
              "      <td>...</td>\n",
              "      <td>...</td>\n",
              "      <td>...</td>\n",
              "    </tr>\n",
              "    <tr>\n",
              "      <th>99</th>\n",
              "      <td>2022-04-16 13:58:48.000</td>\n",
              "      <td>Teknik Informatika</td>\n",
              "      <td>Setuju</td>\n",
              "      <td>Setuju</td>\n",
              "      <td>Setuju</td>\n",
              "      <td>Setuju</td>\n",
              "      <td>Kurang Setuju</td>\n",
              "      <td>Setuju</td>\n",
              "      <td>Tidak</td>\n",
              "      <td>Waktu Belajar, Lingkungan</td>\n",
              "      <td>Wifi</td>\n",
              "      <td>Wifi murah</td>\n",
              "      <td>50% - 75%</td>\n",
              "    </tr>\n",
              "    <tr>\n",
              "      <th>100</th>\n",
              "      <td>2022-04-16 14:40:22.000</td>\n",
              "      <td>Teknik Informatika</td>\n",
              "      <td>Kurang Setuju</td>\n",
              "      <td>Sangat Setuju</td>\n",
              "      <td>Kurang Setuju</td>\n",
              "      <td>Sangat Setuju</td>\n",
              "      <td>Sangat Setuju</td>\n",
              "      <td>Sangat Setuju</td>\n",
              "      <td>Tidak</td>\n",
              "      <td>Jaringan, Perangkat, Waktu Belajar, Lingkungan</td>\n",
              "      <td>Wifi</td>\n",
              "      <td>Wifi, lebih murah</td>\n",
              "      <td>75% - 100%</td>\n",
              "    </tr>\n",
              "    <tr>\n",
              "      <th>101</th>\n",
              "      <td>2022-04-26 22:07:18.672</td>\n",
              "      <td>Matematika</td>\n",
              "      <td>Sangat Setuju</td>\n",
              "      <td>Sangat Setuju</td>\n",
              "      <td>Sangat Setuju</td>\n",
              "      <td>Sangat Setuju</td>\n",
              "      <td>Setuju</td>\n",
              "      <td>Setuju</td>\n",
              "      <td>Tidak</td>\n",
              "      <td>Jaringan, Waktu Belajar, Lingkungan</td>\n",
              "      <td>Jaringan Seluler</td>\n",
              "      <td>lebih murah</td>\n",
              "      <td>75% - 100%</td>\n",
              "    </tr>\n",
              "    <tr>\n",
              "      <th>102</th>\n",
              "      <td>2022-04-26 22:09:52.597</td>\n",
              "      <td>Fisika</td>\n",
              "      <td>Setuju</td>\n",
              "      <td>Kurang Setuju</td>\n",
              "      <td>Kurang Setuju</td>\n",
              "      <td>Setuju</td>\n",
              "      <td>Kurang Setuju</td>\n",
              "      <td>Sangat Setuju</td>\n",
              "      <td>Tidak</td>\n",
              "      <td>Lingkungan</td>\n",
              "      <td>Jaringan Seluler</td>\n",
              "      <td>Karna tdk punya wifi</td>\n",
              "      <td>50% - 75%</td>\n",
              "    </tr>\n",
              "    <tr>\n",
              "      <th>103</th>\n",
              "      <td>2022-04-26 22:44:27.486</td>\n",
              "      <td>Kimia</td>\n",
              "      <td>Setuju</td>\n",
              "      <td>Setuju</td>\n",
              "      <td>Setuju</td>\n",
              "      <td>Setuju</td>\n",
              "      <td>Setuju</td>\n",
              "      <td>Setuju</td>\n",
              "      <td>Tidak</td>\n",
              "      <td>Jaringan, Perangkat, Waktu Belajar</td>\n",
              "      <td>Jaringan Seluler</td>\n",
              "      <td>karena mendapatkan subsidi internet dari kampus</td>\n",
              "      <td>75% - 100%</td>\n",
              "    </tr>\n",
              "  </tbody>\n",
              "</table>\n",
              "<p>104 rows × 13 columns</p>\n",
              "</div>\n",
              "      <button class=\"colab-df-convert\" onclick=\"convertToInteractive('df-ceaa65b6-94a5-487e-8e9f-16f079e0db07')\"\n",
              "              title=\"Convert this dataframe to an interactive table.\"\n",
              "              style=\"display:none;\">\n",
              "        \n",
              "  <svg xmlns=\"http://www.w3.org/2000/svg\" height=\"24px\"viewBox=\"0 0 24 24\"\n",
              "       width=\"24px\">\n",
              "    <path d=\"M0 0h24v24H0V0z\" fill=\"none\"/>\n",
              "    <path d=\"M18.56 5.44l.94 2.06.94-2.06 2.06-.94-2.06-.94-.94-2.06-.94 2.06-2.06.94zm-11 1L8.5 8.5l.94-2.06 2.06-.94-2.06-.94L8.5 2.5l-.94 2.06-2.06.94zm10 10l.94 2.06.94-2.06 2.06-.94-2.06-.94-.94-2.06-.94 2.06-2.06.94z\"/><path d=\"M17.41 7.96l-1.37-1.37c-.4-.4-.92-.59-1.43-.59-.52 0-1.04.2-1.43.59L10.3 9.45l-7.72 7.72c-.78.78-.78 2.05 0 2.83L4 21.41c.39.39.9.59 1.41.59.51 0 1.02-.2 1.41-.59l7.78-7.78 2.81-2.81c.8-.78.8-2.07 0-2.86zM5.41 20L4 18.59l7.72-7.72 1.47 1.35L5.41 20z\"/>\n",
              "  </svg>\n",
              "      </button>\n",
              "      \n",
              "  <style>\n",
              "    .colab-df-container {\n",
              "      display:flex;\n",
              "      flex-wrap:wrap;\n",
              "      gap: 12px;\n",
              "    }\n",
              "\n",
              "    .colab-df-convert {\n",
              "      background-color: #E8F0FE;\n",
              "      border: none;\n",
              "      border-radius: 50%;\n",
              "      cursor: pointer;\n",
              "      display: none;\n",
              "      fill: #1967D2;\n",
              "      height: 32px;\n",
              "      padding: 0 0 0 0;\n",
              "      width: 32px;\n",
              "    }\n",
              "\n",
              "    .colab-df-convert:hover {\n",
              "      background-color: #E2EBFA;\n",
              "      box-shadow: 0px 1px 2px rgba(60, 64, 67, 0.3), 0px 1px 3px 1px rgba(60, 64, 67, 0.15);\n",
              "      fill: #174EA6;\n",
              "    }\n",
              "\n",
              "    [theme=dark] .colab-df-convert {\n",
              "      background-color: #3B4455;\n",
              "      fill: #D2E3FC;\n",
              "    }\n",
              "\n",
              "    [theme=dark] .colab-df-convert:hover {\n",
              "      background-color: #434B5C;\n",
              "      box-shadow: 0px 1px 3px 1px rgba(0, 0, 0, 0.15);\n",
              "      filter: drop-shadow(0px 1px 2px rgba(0, 0, 0, 0.3));\n",
              "      fill: #FFFFFF;\n",
              "    }\n",
              "  </style>\n",
              "\n",
              "      <script>\n",
              "        const buttonEl =\n",
              "          document.querySelector('#df-ceaa65b6-94a5-487e-8e9f-16f079e0db07 button.colab-df-convert');\n",
              "        buttonEl.style.display =\n",
              "          google.colab.kernel.accessAllowed ? 'block' : 'none';\n",
              "\n",
              "        async function convertToInteractive(key) {\n",
              "          const element = document.querySelector('#df-ceaa65b6-94a5-487e-8e9f-16f079e0db07');\n",
              "          const dataTable =\n",
              "            await google.colab.kernel.invokeFunction('convertToInteractive',\n",
              "                                                     [key], {});\n",
              "          if (!dataTable) return;\n",
              "\n",
              "          const docLinkHtml = 'Like what you see? Visit the ' +\n",
              "            '<a target=\"_blank\" href=https://colab.research.google.com/notebooks/data_table.ipynb>data table notebook</a>'\n",
              "            + ' to learn more about interactive tables.';\n",
              "          element.innerHTML = '';\n",
              "          dataTable['output_type'] = 'display_data';\n",
              "          await google.colab.output.renderOutput(dataTable, element);\n",
              "          const docLink = document.createElement('div');\n",
              "          docLink.innerHTML = docLinkHtml;\n",
              "          element.appendChild(docLink);\n",
              "        }\n",
              "      </script>\n",
              "    </div>\n",
              "  </div>\n",
              "  "
            ]
          },
          "metadata": {},
          "execution_count": 47
        }
      ]
    },
    {
      "cell_type": "markdown",
      "source": [
        "# Preprocessing"
      ],
      "metadata": {
        "id": "gRi9YOs1fYr5"
      }
    },
    {
      "cell_type": "code",
      "source": [
        "data.info()"
      ],
      "metadata": {
        "id": "g42oza5Oqo98",
        "outputId": "3696521f-e906-401b-bb2f-43091aea721e",
        "colab": {
          "base_uri": "https://localhost:8080/"
        }
      },
      "execution_count": null,
      "outputs": [
        {
          "output_type": "stream",
          "name": "stdout",
          "text": [
            "<class 'pandas.core.frame.DataFrame'>\n",
            "RangeIndex: 104 entries, 0 to 103\n",
            "Data columns (total 13 columns):\n",
            " #   Column                                                                                  Non-Null Count  Dtype         \n",
            "---  ------                                                                                  --------------  -----         \n",
            " 0   Timestamp                                                                               104 non-null    datetime64[ns]\n",
            " 1   Jurusan                                                                                 104 non-null    object        \n",
            " 2   Jaringan internet di rumah memiliki kualitas yang baik                                  104 non-null    object        \n",
            " 3   Kekuatan jaringan mempengaruhi proses belajar mengajar                                  104 non-null    object        \n",
            " 4   Anda puas dengan kualitas internet di rumah anda                                        104 non-null    object        \n",
            " 5   Fokus belajar anda terganggu jika kualitas internet anda buruk                          104 non-null    object        \n",
            " 6   Anda sulit memahami pelajaran karena kualitas internet yang buruk                       104 non-null    object        \n",
            " 7   Anda lebih cepat memahami pelajaran jika kualitas internet baik/bagus                   104 non-null    object        \n",
            " 8   PJJ (Perkuliahan Jarak Jauh) membuat nilai Anda menurun                                 104 non-null    object        \n",
            " 9   Menurut anda, apa saja yang menjadi faktor IP menurun?                                  104 non-null    object        \n",
            " 10  Jaringan apa yang digunakan dirumah anda?                                               104 non-null    object        \n",
            " 11  Alasan memilih Wifi/Jaringan Seluler                                                    104 non-null    object        \n",
            " 12  Menurut Anda, seberapa besar pengaruh kualitas internet terhadap kegiatan belajar Anda  104 non-null    object        \n",
            "dtypes: datetime64[ns](1), object(12)\n",
            "memory usage: 10.7+ KB\n"
          ]
        }
      ]
    },
    {
      "cell_type": "code",
      "source": [
        "#mengecek duplikasi data\n",
        "print(data.shape)\n",
        "data.duplicated().sum()"
      ],
      "metadata": {
        "colab": {
          "base_uri": "https://localhost:8080/"
        },
        "id": "tyo35hLe3zzL",
        "outputId": "d15d19f6-e596-44ee-9279-0bd51ade0f61"
      },
      "execution_count": null,
      "outputs": [
        {
          "output_type": "stream",
          "name": "stdout",
          "text": [
            "(104, 13)\n"
          ]
        },
        {
          "output_type": "execute_result",
          "data": {
            "text/plain": [
              "0"
            ]
          },
          "metadata": {},
          "execution_count": 49
        }
      ]
    },
    {
      "cell_type": "code",
      "source": [
        "#mengecek missing value\n",
        "print(data.isnull().sum())"
      ],
      "metadata": {
        "colab": {
          "base_uri": "https://localhost:8080/"
        },
        "id": "F69jeWkcFOh6",
        "outputId": "def90b56-d8d7-41a7-af4a-b862739f3f00"
      },
      "execution_count": null,
      "outputs": [
        {
          "output_type": "stream",
          "name": "stdout",
          "text": [
            "Timestamp                                                                                 0\n",
            "Jurusan                                                                                   0\n",
            "Jaringan internet di rumah memiliki kualitas yang baik                                    0\n",
            "Kekuatan jaringan mempengaruhi proses belajar mengajar                                    0\n",
            "Anda puas dengan kualitas internet di rumah anda                                          0\n",
            "Fokus belajar anda terganggu jika kualitas internet anda buruk                            0\n",
            "Anda sulit memahami pelajaran karena kualitas internet yang buruk                         0\n",
            "Anda lebih cepat memahami pelajaran jika kualitas internet baik/bagus                     0\n",
            "PJJ (Perkuliahan Jarak Jauh) membuat nilai Anda menurun                                   0\n",
            "Menurut anda, apa saja yang menjadi faktor IP menurun?                                    0\n",
            "Jaringan apa yang digunakan dirumah anda?                                                 0\n",
            "Alasan memilih Wifi/Jaringan Seluler                                                      0\n",
            "Menurut Anda, seberapa besar pengaruh kualitas internet terhadap kegiatan belajar Anda    0\n",
            "dtype: int64\n"
          ]
        }
      ]
    },
    {
      "cell_type": "markdown",
      "source": [
        "# EDA"
      ],
      "metadata": {
        "id": "AueH6WMnfd9S"
      }
    },
    {
      "cell_type": "markdown",
      "source": [
        "### **seberapa banyak mahasiswa yang menganggap bahwa kulitas internet yang buruk berdampak buruk juga terhadap fokus belajar?**"
      ],
      "metadata": {
        "id": "pd-PcWPTOoH8"
      }
    },
    {
      "cell_type": "code",
      "source": [
        "gambar1 = data['Fokus belajar anda terganggu jika kualitas internet anda buruk']\n",
        "\n",
        "proporsion = Counter(gambar1)\n",
        "values = [float(v) for v in proporsion.values()]\n",
        "colors = ['r', 'g', 'b', 'y']\n",
        "labels = proporsion.keys()\n",
        "explode = (0.1, 0, 0)\n",
        "plt.pie(values, colors=colors, explode=explode, labels= values, shadow=True)\n",
        "plt.title('Proporsi Tanggapan Mahasiswa')\n",
        "plt.legend(labels,loc='best')\n",
        "plt.show()"
      ],
      "metadata": {
        "colab": {
          "base_uri": "https://localhost:8080/",
          "height": 264
        },
        "id": "Qju1OjVO38AR",
        "outputId": "18a0b058-034f-410a-c413-e71b1906d702"
      },
      "execution_count": null,
      "outputs": [
        {
          "output_type": "display_data",
          "data": {
            "text/plain": [
              "<Figure size 432x288 with 1 Axes>"
            ],
            "image/png": "[encoded data removed]"
          },
          "metadata": {}
        }
      ]
    },
    {
      "cell_type": "markdown",
      "source": [
        "lebih dari 50% mahasiswa sangat setuju bahwa kualitas internet ini mempengaruhi fokus belajar"
      ],
      "metadata": {
        "id": "SJHfXBu44M73"
      }
    },
    {
      "cell_type": "markdown",
      "source": [
        "**Jaringan internet Mahasiswa di rumah memiliki kualitas yang baik**"
      ],
      "metadata": {
        "id": "t7bktqxswkmM"
      }
    },
    {
      "cell_type": "code",
      "source": [
        "gambar2 = data['Jaringan internet di rumah memiliki kualitas yang baik']\n",
        "\n",
        "proporsion = Counter(gambar2)\n",
        "values = [float(v) for v in proporsion.values()]\n",
        "colors = ['r', 'g', 'b', 'y']\n",
        "labels = proporsion.keys()\n",
        "explode = (0.1, 0, 0, 0)\n",
        "plt.pie(values, colors=colors, explode=explode, labels= values, shadow=True)\n",
        "plt.title('Proporsi Tanggapan Mahasiswa')\n",
        "plt.legend(labels,loc='best')\n",
        "plt.show()"
      ],
      "metadata": {
        "colab": {
          "base_uri": "https://localhost:8080/",
          "height": 264
        },
        "id": "xVwyTEBAwh6G",
        "outputId": "3f16aa91-a9f3-4da9-ec1a-1648bfaaada7"
      },
      "execution_count": null,
      "outputs": [
        {
          "output_type": "display_data",
          "data": {
            "text/plain": [
              "<Figure size 432x288 with 1 Axes>"
            ],
            "image/png": "[encoded data removed]"
          },
          "metadata": {}
        }
      ]
    },
    {
      "cell_type": "markdown",
      "source": [
        "**presentase yang diberikan mahasiswa FST terkait besarnya pengaruh kualitas internet terhadap kegiatan belajar Anda**"
      ],
      "metadata": {
        "id": "BGbK7fAK3Q6z"
      }
    },
    {
      "cell_type": "code",
      "source": [
        "data = data.rename(columns={'Menurut Anda, seberapa besar pengaruh kualitas internet terhadap kegiatan belajar Anda':'presentase pengaruh kualitas internet terhadap kegiatan belajar'})"
      ],
      "metadata": {
        "id": "jO4rfY0V30dR"
      },
      "execution_count": null,
      "outputs": []
    },
    {
      "cell_type": "code",
      "source": [
        "p = sns.countplot(y=\"presentase pengaruh kualitas internet terhadap kegiatan belajar\", data=data)"
      ],
      "metadata": {
        "colab": {
          "base_uri": "https://localhost:8080/",
          "height": 354
        },
        "id": "ZSvWEx-w3kZv",
        "outputId": "caf44704-23c0-4cb3-931a-438ae2478b84"
      },
      "execution_count": null,
      "outputs": [
        {
          "output_type": "display_data",
          "data": {
            "text/plain": [
              "<Figure size 432x288 with 1 Axes>"
            ],
            "image/png": "[encoded data removed]"
          },
          "metadata": {
            "needs_background": "light"
          }
        }
      ]
    },
    {
      "cell_type": "code",
      "source": [
        "ax = sns.countplot(y = 'presentase pengaruh kualitas internet terhadap kegiatan belajar', hue = 'Jurusan', palette = 'muted', data=data)"
      ],
      "metadata": {
        "colab": {
          "base_uri": "https://localhost:8080/",
          "height": 354
        },
        "id": "iRk7fgGt72FA",
        "outputId": "d678ab36-8bec-4af1-bd11-3ecef21b8902"
      },
      "execution_count": null,
      "outputs": [
        {
          "output_type": "display_data",
          "data": {
            "text/plain": [
              "<Figure size 432x288 with 1 Axes>"
            ],
            "image/png": "[encoded data removed]"
          },
          "metadata": {
            "needs_background": "light"
          }
        }
      ]
    },
    {
      "cell_type": "markdown",
      "source": [
        "# **persiapan untuk pemodelan**"
      ],
      "metadata": {
        "id": "Hpu7a3anKU3X"
      }
    },
    {
      "cell_type": "code",
      "source": [
        "selected_columns = ['PJJ (Perkuliahan Jarak Jauh) membuat nilai Anda menurun', \n",
        "                    'Jaringan internet di rumah memiliki kualitas yang baik', \n",
        "                    'Jaringan apa yang digunakan dirumah anda?']\n",
        "data1 = []\n",
        "df =  pd.read_excel('/content/METLIT/Hasil_Survey_Mahasiswa_FST_UIN_JAKARTA.xlsx')"
      ],
      "metadata": {
        "id": "088uTaoeWGyZ"
      },
      "execution_count": null,
      "outputs": []
    },
    {
      "cell_type": "code",
      "source": [
        "df = df[selected_columns]\n",
        "data1.append(df)\n",
        "data1 = pd.concat(data1, ignore_index= True)"
      ],
      "metadata": {
        "id": "ug3lYRGcaK46"
      },
      "execution_count": null,
      "outputs": []
    },
    {
      "cell_type": "code",
      "source": [
        "data1 = data1.rename(columns={'PJJ (Perkuliahan Jarak Jauh) membuat nilai Anda menurun':'penurunan_IP_selama_PJJ',\n",
        "                              'Jaringan internet di rumah memiliki kualitas yang baik':'kualitas_jaringan',   \n",
        "                              'Jaringan apa yang digunakan dirumah anda?':'jenis_jaringan'})"
      ],
      "metadata": {
        "id": "gBjB4wz6bLae"
      },
      "execution_count": null,
      "outputs": []
    },
    {
      "cell_type": "code",
      "source": [
        "data1"
      ],
      "metadata": {
        "colab": {
          "base_uri": "https://localhost:8080/",
          "height": 423
        },
        "id": "T2LP-5tQbygB",
        "outputId": "177fb8ff-97b6-4188-c141-768d566881b1"
      },
      "execution_count": null,
      "outputs": [
        {
          "output_type": "execute_result",
          "data": {
            "text/plain": [
              "    penurunan_IP_selama_PJJ kualitas_jaringan    jenis_jaringan\n",
              "0                     Tidak            Setuju              Wifi\n",
              "1                     Tidak     Sangat Setuju              Wifi\n",
              "2                     Tidak            Setuju  Jaringan Seluler\n",
              "3                     Tidak            Setuju              Wifi\n",
              "4                     Tidak     Kurang Setuju              Wifi\n",
              "..                      ...               ...               ...\n",
              "99                    Tidak            Setuju              Wifi\n",
              "100                   Tidak     Kurang Setuju              Wifi\n",
              "101                   Tidak     Sangat Setuju  Jaringan Seluler\n",
              "102                   Tidak            Setuju  Jaringan Seluler\n",
              "103                   Tidak            Setuju  Jaringan Seluler\n",
              "\n",
              "[104 rows x 3 columns]"
            ],
            "text/html": [
              "\n",
              "  <div id=\"df-31d9e11d-7a40-403e-a6e7-9f70626b6e3a\">\n",
              "    <div class=\"colab-df-container\">\n",
              "      <div>\n",
              "<style scoped>\n",
              "    .dataframe tbody tr th:only-of-type {\n",
              "        vertical-align: middle;\n",
              "    }\n",
              "\n",
              "    .dataframe tbody tr th {\n",
              "        vertical-align: top;\n",
              "    }\n",
              "\n",
              "    .dataframe thead th {\n",
              "        text-align: right;\n",
              "    }\n",
              "</style>\n",
              "<table border=\"1\" class=\"dataframe\">\n",
              "  <thead>\n",
              "    <tr style=\"text-align: right;\">\n",
              "      <th></th>\n",
              "      <th>penurunan_IP_selama_PJJ</th>\n",
              "      <th>kualitas_jaringan</th>\n",
              "      <th>jenis_jaringan</th>\n",
              "    </tr>\n",
              "  </thead>\n",
              "  <tbody>\n",
              "    <tr>\n",
              "      <th>0</th>\n",
              "      <td>Tidak</td>\n",
              "      <td>Setuju</td>\n",
              "      <td>Wifi</td>\n",
              "    </tr>\n",
              "    <tr>\n",
              "      <th>1</th>\n",
              "      <td>Tidak</td>\n",
              "      <td>Sangat Setuju</td>\n",
              "      <td>Wifi</td>\n",
              "    </tr>\n",
              "    <tr>\n",
              "      <th>2</th>\n",
              "      <td>Tidak</td>\n",
              "      <td>Setuju</td>\n",
              "      <td>Jaringan Seluler</td>\n",
              "    </tr>\n",
              "    <tr>\n",
              "      <th>3</th>\n",
              "      <td>Tidak</td>\n",
              "      <td>Setuju</td>\n",
              "      <td>Wifi</td>\n",
              "    </tr>\n",
              "    <tr>\n",
              "      <th>4</th>\n",
              "      <td>Tidak</td>\n",
              "      <td>Kurang Setuju</td>\n",
              "      <td>Wifi</td>\n",
              "    </tr>\n",
              "    <tr>\n",
              "      <th>...</th>\n",
              "      <td>...</td>\n",
              "      <td>...</td>\n",
              "      <td>...</td>\n",
              "    </tr>\n",
              "    <tr>\n",
              "      <th>99</th>\n",
              "      <td>Tidak</td>\n",
              "      <td>Setuju</td>\n",
              "      <td>Wifi</td>\n",
              "    </tr>\n",
              "    <tr>\n",
              "      <th>100</th>\n",
              "      <td>Tidak</td>\n",
              "      <td>Kurang Setuju</td>\n",
              "      <td>Wifi</td>\n",
              "    </tr>\n",
              "    <tr>\n",
              "      <th>101</th>\n",
              "      <td>Tidak</td>\n",
              "      <td>Sangat Setuju</td>\n",
              "      <td>Jaringan Seluler</td>\n",
              "    </tr>\n",
              "    <tr>\n",
              "      <th>102</th>\n",
              "      <td>Tidak</td>\n",
              "      <td>Setuju</td>\n",
              "      <td>Jaringan Seluler</td>\n",
              "    </tr>\n",
              "    <tr>\n",
              "      <th>103</th>\n",
              "      <td>Tidak</td>\n",
              "      <td>Setuju</td>\n",
              "      <td>Jaringan Seluler</td>\n",
              "    </tr>\n",
              "  </tbody>\n",
              "</table>\n",
              "<p>104 rows × 3 columns</p>\n",
              "</div>\n",
              "      <button class=\"colab-df-convert\" onclick=\"convertToInteractive('df-31d9e11d-7a40-403e-a6e7-9f70626b6e3a')\"\n",
              "              title=\"Convert this dataframe to an interactive table.\"\n",
              "              style=\"display:none;\">\n",
              "        \n",
              "  <svg xmlns=\"http://www.w3.org/2000/svg\" height=\"24px\"viewBox=\"0 0 24 24\"\n",
              "       width=\"24px\">\n",
              "    <path d=\"M0 0h24v24H0V0z\" fill=\"none\"/>\n",
              "    <path d=\"M18.56 5.44l.94 2.06.94-2.06 2.06-.94-2.06-.94-.94-2.06-.94 2.06-2.06.94zm-11 1L8.5 8.5l.94-2.06 2.06-.94-2.06-.94L8.5 2.5l-.94 2.06-2.06.94zm10 10l.94 2.06.94-2.06 2.06-.94-2.06-.94-.94-2.06-.94 2.06-2.06.94z\"/><path d=\"M17.41 7.96l-1.37-1.37c-.4-.4-.92-.59-1.43-.59-.52 0-1.04.2-1.43.59L10.3 9.45l-7.72 7.72c-.78.78-.78 2.05 0 2.83L4 21.41c.39.39.9.59 1.41.59.51 0 1.02-.2 1.41-.59l7.78-7.78 2.81-2.81c.8-.78.8-2.07 0-2.86zM5.41 20L4 18.59l7.72-7.72 1.47 1.35L5.41 20z\"/>\n",
              "  </svg>\n",
              "      </button>\n",
              "      \n",
              "  <style>\n",
              "    .colab-df-container {\n",
              "      display:flex;\n",
              "      flex-wrap:wrap;\n",
              "      gap: 12px;\n",
              "    }\n",
              "\n",
              "    .colab-df-convert {\n",
              "      background-color: #E8F0FE;\n",
              "      border: none;\n",
              "      border-radius: 50%;\n",
              "      cursor: pointer;\n",
              "      display: none;\n",
              "      fill: #1967D2;\n",
              "      height: 32px;\n",
              "      padding: 0 0 0 0;\n",
              "      width: 32px;\n",
              "    }\n",
              "\n",
              "    .colab-df-convert:hover {\n",
              "      background-color: #E2EBFA;\n",
              "      box-shadow: 0px 1px 2px rgba(60, 64, 67, 0.3), 0px 1px 3px 1px rgba(60, 64, 67, 0.15);\n",
              "      fill: #174EA6;\n",
              "    }\n",
              "\n",
              "    [theme=dark] .colab-df-convert {\n",
              "      background-color: #3B4455;\n",
              "      fill: #D2E3FC;\n",
              "    }\n",
              "\n",
              "    [theme=dark] .colab-df-convert:hover {\n",
              "      background-color: #434B5C;\n",
              "      box-shadow: 0px 1px 3px 1px rgba(0, 0, 0, 0.15);\n",
              "      filter: drop-shadow(0px 1px 2px rgba(0, 0, 0, 0.3));\n",
              "      fill: #FFFFFF;\n",
              "    }\n",
              "  </style>\n",
              "\n",
              "      <script>\n",
              "        const buttonEl =\n",
              "          document.querySelector('#df-31d9e11d-7a40-403e-a6e7-9f70626b6e3a button.colab-df-convert');\n",
              "        buttonEl.style.display =\n",
              "          google.colab.kernel.accessAllowed ? 'block' : 'none';\n",
              "\n",
              "        async function convertToInteractive(key) {\n",
              "          const element = document.querySelector('#df-31d9e11d-7a40-403e-a6e7-9f70626b6e3a');\n",
              "          const dataTable =\n",
              "            await google.colab.kernel.invokeFunction('convertToInteractive',\n",
              "                                                     [key], {});\n",
              "          if (!dataTable) return;\n",
              "\n",
              "          const docLinkHtml = 'Like what you see? Visit the ' +\n",
              "            '<a target=\"_blank\" href=https://colab.research.google.com/notebooks/data_table.ipynb>data table notebook</a>'\n",
              "            + ' to learn more about interactive tables.';\n",
              "          element.innerHTML = '';\n",
              "          dataTable['output_type'] = 'display_data';\n",
              "          await google.colab.output.renderOutput(dataTable, element);\n",
              "          const docLink = document.createElement('div');\n",
              "          docLink.innerHTML = docLinkHtml;\n",
              "          element.appendChild(docLink);\n",
              "        }\n",
              "      </script>\n",
              "    </div>\n",
              "  </div>\n",
              "  "
            ]
          },
          "metadata": {},
          "execution_count": 78
        }
      ]
    },
    {
      "cell_type": "code",
      "source": [
        "#memberi index kualitas jaringan\n",
        "kualitas = data1.kualitas_jaringan.unique().tolist()\n",
        "data1['index_kualitas_jaringan'] = data1.kualitas_jaringan.map(lambda x: kualitas.index(x))"
      ],
      "metadata": {
        "id": "jWfE8DCPwHWj"
      },
      "execution_count": null,
      "outputs": []
    },
    {
      "cell_type": "code",
      "source": [
        "#memberi index jenis jaringan\n",
        "jenis = data1.jenis_jaringan.unique().tolist()\n",
        "data1['index_jenis_jaringan'] = data1.jenis_jaringan.map(lambda x: jenis.index(x))"
      ],
      "metadata": {
        "id": "X2I3mxWCxLWt"
      },
      "execution_count": null,
      "outputs": []
    },
    {
      "cell_type": "code",
      "source": [
        "data1.sample(10)"
      ],
      "metadata": {
        "colab": {
          "base_uri": "https://localhost:8080/",
          "height": 363
        },
        "id": "dxq5RzQKwmu5",
        "outputId": "6f20f18d-0e76-44c7-db22-6155b9d039d6"
      },
      "execution_count": null,
      "outputs": [
        {
          "output_type": "execute_result",
          "data": {
            "text/plain": [
              "    penurunan_IP_selama_PJJ kualitas_jaringan    jenis_jaringan  \\\n",
              "98                    Tidak     Sangat Setuju              Wifi   \n",
              "34                       Ya     Sangat Setuju              Wifi   \n",
              "102                   Tidak            Setuju  Jaringan Seluler   \n",
              "69                       Ya     Kurang Setuju  Jaringan Seluler   \n",
              "1                     Tidak     Sangat Setuju              Wifi   \n",
              "97                    Tidak            Setuju              Wifi   \n",
              "54                    Tidak     Sangat Setuju        Dua duanya   \n",
              "42                       Ya     Kurang Setuju  Jaringan Seluler   \n",
              "18                Ragu-ragu            Setuju              Wifi   \n",
              "26                    Tidak            Setuju  Jaringan Seluler   \n",
              "\n",
              "     index_kualitas_jaringan  index_jenis_jaringan  \n",
              "98                         1                     0  \n",
              "34                         1                     0  \n",
              "102                        0                     1  \n",
              "69                         2                     1  \n",
              "1                          1                     0  \n",
              "97                         0                     0  \n",
              "54                         1                     3  \n",
              "42                         2                     1  \n",
              "18                         0                     0  \n",
              "26                         0                     1  "
            ],
            "text/html": [
              "\n",
              "  <div id=\"df-a8fe8f7a-32bd-4c95-8a82-413036296b71\">\n",
              "    <div class=\"colab-df-container\">\n",
              "      <div>\n",
              "<style scoped>\n",
              "    .dataframe tbody tr th:only-of-type {\n",
              "        vertical-align: middle;\n",
              "    }\n",
              "\n",
              "    .dataframe tbody tr th {\n",
              "        vertical-align: top;\n",
              "    }\n",
              "\n",
              "    .dataframe thead th {\n",
              "        text-align: right;\n",
              "    }\n",
              "</style>\n",
              "<table border=\"1\" class=\"dataframe\">\n",
              "  <thead>\n",
              "    <tr style=\"text-align: right;\">\n",
              "      <th></th>\n",
              "      <th>penurunan_IP_selama_PJJ</th>\n",
              "      <th>kualitas_jaringan</th>\n",
              "      <th>jenis_jaringan</th>\n",
              "      <th>index_kualitas_jaringan</th>\n",
              "      <th>index_jenis_jaringan</th>\n",
              "    </tr>\n",
              "  </thead>\n",
              "  <tbody>\n",
              "    <tr>\n",
              "      <th>98</th>\n",
              "      <td>Tidak</td>\n",
              "      <td>Sangat Setuju</td>\n",
              "      <td>Wifi</td>\n",
              "      <td>1</td>\n",
              "      <td>0</td>\n",
              "    </tr>\n",
              "    <tr>\n",
              "      <th>34</th>\n",
              "      <td>Ya</td>\n",
              "      <td>Sangat Setuju</td>\n",
              "      <td>Wifi</td>\n",
              "      <td>1</td>\n",
              "      <td>0</td>\n",
              "    </tr>\n",
              "    <tr>\n",
              "      <th>102</th>\n",
              "      <td>Tidak</td>\n",
              "      <td>Setuju</td>\n",
              "      <td>Jaringan Seluler</td>\n",
              "      <td>0</td>\n",
              "      <td>1</td>\n",
              "    </tr>\n",
              "    <tr>\n",
              "      <th>69</th>\n",
              "      <td>Ya</td>\n",
              "      <td>Kurang Setuju</td>\n",
              "      <td>Jaringan Seluler</td>\n",
              "      <td>2</td>\n",
              "      <td>1</td>\n",
              "    </tr>\n",
              "    <tr>\n",
              "      <th>1</th>\n",
              "      <td>Tidak</td>\n",
              "      <td>Sangat Setuju</td>\n",
              "      <td>Wifi</td>\n",
              "      <td>1</td>\n",
              "      <td>0</td>\n",
              "    </tr>\n",
              "    <tr>\n",
              "      <th>97</th>\n",
              "      <td>Tidak</td>\n",
              "      <td>Setuju</td>\n",
              "      <td>Wifi</td>\n",
              "      <td>0</td>\n",
              "      <td>0</td>\n",
              "    </tr>\n",
              "    <tr>\n",
              "      <th>54</th>\n",
              "      <td>Tidak</td>\n",
              "      <td>Sangat Setuju</td>\n",
              "      <td>Dua duanya</td>\n",
              "      <td>1</td>\n",
              "      <td>3</td>\n",
              "    </tr>\n",
              "    <tr>\n",
              "      <th>42</th>\n",
              "      <td>Ya</td>\n",
              "      <td>Kurang Setuju</td>\n",
              "      <td>Jaringan Seluler</td>\n",
              "      <td>2</td>\n",
              "      <td>1</td>\n",
              "    </tr>\n",
              "    <tr>\n",
              "      <th>18</th>\n",
              "      <td>Ragu-ragu</td>\n",
              "      <td>Setuju</td>\n",
              "      <td>Wifi</td>\n",
              "      <td>0</td>\n",
              "      <td>0</td>\n",
              "    </tr>\n",
              "    <tr>\n",
              "      <th>26</th>\n",
              "      <td>Tidak</td>\n",
              "      <td>Setuju</td>\n",
              "      <td>Jaringan Seluler</td>\n",
              "      <td>0</td>\n",
              "      <td>1</td>\n",
              "    </tr>\n",
              "  </tbody>\n",
              "</table>\n",
              "</div>\n",
              "      <button class=\"colab-df-convert\" onclick=\"convertToInteractive('df-a8fe8f7a-32bd-4c95-8a82-413036296b71')\"\n",
              "              title=\"Convert this dataframe to an interactive table.\"\n",
              "              style=\"display:none;\">\n",
              "        \n",
              "  <svg xmlns=\"http://www.w3.org/2000/svg\" height=\"24px\"viewBox=\"0 0 24 24\"\n",
              "       width=\"24px\">\n",
              "    <path d=\"M0 0h24v24H0V0z\" fill=\"none\"/>\n",
              "    <path d=\"M18.56 5.44l.94 2.06.94-2.06 2.06-.94-2.06-.94-.94-2.06-.94 2.06-2.06.94zm-11 1L8.5 8.5l.94-2.06 2.06-.94-2.06-.94L8.5 2.5l-.94 2.06-2.06.94zm10 10l.94 2.06.94-2.06 2.06-.94-2.06-.94-.94-2.06-.94 2.06-2.06.94z\"/><path d=\"M17.41 7.96l-1.37-1.37c-.4-.4-.92-.59-1.43-.59-.52 0-1.04.2-1.43.59L10.3 9.45l-7.72 7.72c-.78.78-.78 2.05 0 2.83L4 21.41c.39.39.9.59 1.41.59.51 0 1.02-.2 1.41-.59l7.78-7.78 2.81-2.81c.8-.78.8-2.07 0-2.86zM5.41 20L4 18.59l7.72-7.72 1.47 1.35L5.41 20z\"/>\n",
              "  </svg>\n",
              "      </button>\n",
              "      \n",
              "  <style>\n",
              "    .colab-df-container {\n",
              "      display:flex;\n",
              "      flex-wrap:wrap;\n",
              "      gap: 12px;\n",
              "    }\n",
              "\n",
              "    .colab-df-convert {\n",
              "      background-color: #E8F0FE;\n",
              "      border: none;\n",
              "      border-radius: 50%;\n",
              "      cursor: pointer;\n",
              "      display: none;\n",
              "      fill: #1967D2;\n",
              "      height: 32px;\n",
              "      padding: 0 0 0 0;\n",
              "      width: 32px;\n",
              "    }\n",
              "\n",
              "    .colab-df-convert:hover {\n",
              "      background-color: #E2EBFA;\n",
              "      box-shadow: 0px 1px 2px rgba(60, 64, 67, 0.3), 0px 1px 3px 1px rgba(60, 64, 67, 0.15);\n",
              "      fill: #174EA6;\n",
              "    }\n",
              "\n",
              "    [theme=dark] .colab-df-convert {\n",
              "      background-color: #3B4455;\n",
              "      fill: #D2E3FC;\n",
              "    }\n",
              "\n",
              "    [theme=dark] .colab-df-convert:hover {\n",
              "      background-color: #434B5C;\n",
              "      box-shadow: 0px 1px 3px 1px rgba(0, 0, 0, 0.15);\n",
              "      filter: drop-shadow(0px 1px 2px rgba(0, 0, 0, 0.3));\n",
              "      fill: #FFFFFF;\n",
              "    }\n",
              "  </style>\n",
              "\n",
              "      <script>\n",
              "        const buttonEl =\n",
              "          document.querySelector('#df-a8fe8f7a-32bd-4c95-8a82-413036296b71 button.colab-df-convert');\n",
              "        buttonEl.style.display =\n",
              "          google.colab.kernel.accessAllowed ? 'block' : 'none';\n",
              "\n",
              "        async function convertToInteractive(key) {\n",
              "          const element = document.querySelector('#df-a8fe8f7a-32bd-4c95-8a82-413036296b71');\n",
              "          const dataTable =\n",
              "            await google.colab.kernel.invokeFunction('convertToInteractive',\n",
              "                                                     [key], {});\n",
              "          if (!dataTable) return;\n",
              "\n",
              "          const docLinkHtml = 'Like what you see? Visit the ' +\n",
              "            '<a target=\"_blank\" href=https://colab.research.google.com/notebooks/data_table.ipynb>data table notebook</a>'\n",
              "            + ' to learn more about interactive tables.';\n",
              "          element.innerHTML = '';\n",
              "          dataTable['output_type'] = 'display_data';\n",
              "          await google.colab.output.renderOutput(dataTable, element);\n",
              "          const docLink = document.createElement('div');\n",
              "          docLink.innerHTML = docLinkHtml;\n",
              "          element.appendChild(docLink);\n",
              "        }\n",
              "      </script>\n",
              "    </div>\n",
              "  </div>\n",
              "  "
            ]
          },
          "metadata": {},
          "execution_count": 81
        }
      ]
    },
    {
      "cell_type": "markdown",
      "source": [
        "### **Regresi Logistik**"
      ],
      "metadata": {
        "id": "6GwF-y5ETosH"
      }
    },
    {
      "cell_type": "code",
      "source": [
        "x=data1.iloc[:, 3:]\n",
        "y=data1.iloc[:,0]\n",
        "print(\"Berikut ini tampilan data X\")\n",
        "print(x.head())\n",
        "print(\"\")\n",
        "print(\"Berikut ini tampilan data Y\")\n",
        "print(y.head())"
      ],
      "metadata": {
        "id": "BBvbPbAt4EE_",
        "colab": {
          "base_uri": "https://localhost:8080/"
        },
        "outputId": "67f47ff7-e287-4d31-9292-a2b45fef2a89"
      },
      "execution_count": null,
      "outputs": [
        {
          "output_type": "stream",
          "name": "stdout",
          "text": [
            "Berikut ini tampilan data X\n",
            "   index_kualitas_jaringan  index_jenis_jaringan\n",
            "0                        0                     0\n",
            "1                        1                     0\n",
            "2                        0                     1\n",
            "3                        0                     0\n",
            "4                        2                     0\n",
            "\n",
            "Berikut ini tampilan data Y\n",
            "0    Tidak\n",
            "1    Tidak\n",
            "2    Tidak\n",
            "3    Tidak\n",
            "4    Tidak\n",
            "Name: penurunan_IP_selama_PJJ, dtype: object\n"
          ]
        }
      ]
    },
    {
      "cell_type": "code",
      "source": [
        "model=LogisticRegression(multi_class='auto')\n",
        "features = ['index_kualitas_jaringan', 'index_jenis_jaringan']\n",
        "x_train, x_test, y_train, y_test = train_test_split(data1[features].values, data1['penurunan_IP_selama_PJJ'].values, \n",
        "                                                    test_size=0.8, random_state=103)\n",
        "model.fit(x_train, y_train)"
      ],
      "metadata": {
        "colab": {
          "base_uri": "https://localhost:8080/"
        },
        "id": "VrVHP-JKpMm6",
        "outputId": "ec463a81-118e-4e84-a55e-63663aa5f2d3"
      },
      "execution_count": null,
      "outputs": [
        {
          "output_type": "execute_result",
          "data": {
            "text/plain": [
              "LogisticRegression()"
            ]
          },
          "metadata": {},
          "execution_count": 108
        }
      ]
    },
    {
      "cell_type": "code",
      "source": [
        "print(model.coef_)\n",
        "print(model.intercept_)"
      ],
      "metadata": {
        "colab": {
          "base_uri": "https://localhost:8080/"
        },
        "id": "x6a9Xv7rpecf",
        "outputId": "edd39ef2-b3cd-4928-dd10-62ec6bd2af0b"
      },
      "execution_count": null,
      "outputs": [
        {
          "output_type": "stream",
          "name": "stdout",
          "text": [
            "[[ 0.67078135  0.22154797]\n",
            " [-0.84977042 -0.39102718]\n",
            " [ 0.17898907  0.16947921]]\n",
            "[-2.06163763  2.13496165 -0.07332402]\n"
          ]
        }
      ]
    },
    {
      "cell_type": "code",
      "source": [
        "predictions=model.predict(x_test)\n",
        "print(classification_report(y_test,predictions))\n",
        "print(\"Precision Score : \",precision_score(y_test, predictions, pos_label='positive', average='micro'))\n",
        "print('Recall = ', recall_score(y_test, predictions, pos_label='positive', average='micro'))"
      ],
      "metadata": {
        "id": "BVCrpYeDTG9p",
        "colab": {
          "base_uri": "https://localhost:8080/"
        },
        "outputId": "235de619-95e9-43c7-97fd-815b5a97b82f"
      },
      "execution_count": null,
      "outputs": [
        {
          "output_type": "stream",
          "name": "stdout",
          "text": [
            "              precision    recall  f1-score   support\n",
            "\n",
            "   Ragu-ragu       0.00      0.00      0.00         3\n",
            "       Tidak       0.74      0.95      0.83        59\n",
            "          Ya       0.62      0.23      0.33        22\n",
            "\n",
            "    accuracy                           0.73        84\n",
            "   macro avg       0.45      0.39      0.39        84\n",
            "weighted avg       0.68      0.73      0.67        84\n",
            "\n",
            "Precision Score :  0.7261904761904762\n",
            "Recall =  0.7261904761904762\n"
          ]
        },
        {
          "output_type": "stream",
          "name": "stderr",
          "text": [
            "/usr/local/lib/python3.7/dist-packages/sklearn/metrics/_classification.py:1318: UndefinedMetricWarning: Precision and F-score are ill-defined and being set to 0.0 in labels with no predicted samples. Use `zero_division` parameter to control this behavior.\n",
            "  _warn_prf(average, modifier, msg_start, len(result))\n",
            "/usr/local/lib/python3.7/dist-packages/sklearn/metrics/_classification.py:1318: UndefinedMetricWarning: Precision and F-score are ill-defined and being set to 0.0 in labels with no predicted samples. Use `zero_division` parameter to control this behavior.\n",
            "  _warn_prf(average, modifier, msg_start, len(result))\n",
            "/usr/local/lib/python3.7/dist-packages/sklearn/metrics/_classification.py:1318: UndefinedMetricWarning: Precision and F-score are ill-defined and being set to 0.0 in labels with no predicted samples. Use `zero_division` parameter to control this behavior.\n",
            "  _warn_prf(average, modifier, msg_start, len(result))\n",
            "/usr/local/lib/python3.7/dist-packages/sklearn/metrics/_classification.py:1375: UserWarning: Note that pos_label (set to 'positive') is ignored when average != 'binary' (got 'micro'). You may use labels=[pos_label] to specify a single positive class.\n",
            "  UserWarning,\n",
            "/usr/local/lib/python3.7/dist-packages/sklearn/metrics/_classification.py:1375: UserWarning: Note that pos_label (set to 'positive') is ignored when average != 'binary' (got 'micro'). You may use labels=[pos_label] to specify a single positive class.\n",
            "  UserWarning,\n"
          ]
        }
      ]
    },
    {
      "cell_type": "code",
      "source": [
        "model.score(x_train, y_train)"
      ],
      "metadata": {
        "colab": {
          "base_uri": "https://localhost:8080/"
        },
        "id": "nMHQ6WNngSeb",
        "outputId": "6a3e7694-4306-495c-cb3b-5492f4cd5fc7"
      },
      "execution_count": null,
      "outputs": [
        {
          "output_type": "execute_result",
          "data": {
            "text/plain": [
              "0.85"
            ]
          },
          "metadata": {},
          "execution_count": 112
        }
      ]
    },
    {
      "cell_type": "markdown",
      "source": [
        "**cross validation**"
      ],
      "metadata": {
        "id": "kR1FqEtq-Z7Y"
      }
    },
    {
      "cell_type": "code",
      "source": [
        "from sklearn.model_selection import cross_val_score\n",
        "import time\n",
        "\n",
        "mulai = time.time()\n",
        "scores_regLog = cross_val_score(model, x, y, cv=10) # perhatikan sekarang kita menggunakan seluruh data\n",
        "waktu = time.time() - mulai\n",
        "# Interval Akurasi 95 CI \n",
        "print(\"Accuracy Regresi Logistik: %0.2f (+/- %0.2f), Waktu = %0.3f detik\" % (scores_regLog.mean(), scores_regLog.std() * 2, waktu))"
      ],
      "metadata": {
        "id": "Hmapqe642Ddm",
        "colab": {
          "base_uri": "https://localhost:8080/"
        },
        "outputId": "9972e8c2-20b4-4a6d-d611-9c882e080fa5"
      },
      "execution_count": null,
      "outputs": [
        {
          "output_type": "stream",
          "name": "stdout",
          "text": [
            "Accuracy Regresi Logistik: 0.68 (+/- 0.18), Waktu = 0.094 detik\n"
          ]
        },
        {
          "output_type": "stream",
          "name": "stderr",
          "text": [
            "/usr/local/lib/python3.7/dist-packages/sklearn/model_selection/_split.py:680: UserWarning: The least populated class in y has only 4 members, which is less than n_splits=10.\n",
            "  UserWarning,\n"
          ]
        }
      ]
    },
    {
      "cell_type": "code",
      "source": [],
      "metadata": {
        "id": "ogznfuxrmVU0"
      },
      "execution_count": null,
      "outputs": []
    }
  ]
}